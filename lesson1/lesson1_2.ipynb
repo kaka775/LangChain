{
 "cells": [
  {
   "cell_type": "markdown",
   "id": "68bbe90b",
   "metadata": {},
   "source": [
    "1  ###嘿嘿嘿這是0830課程"
   ]
  },
  {
   "cell_type": "code",
   "execution_count": 1,
   "id": "e267fb12",
   "metadata": {},
   "outputs": [
    {
     "name": "stdout",
     "output_type": "stream",
     "text": [
      "嘿嘿嘿這是0830課程\n"
     ]
    }
   ],
   "source": [
    "print(\"嘿嘿嘿這是0830課程\")"
   ]
  }
 ],
 "metadata": {
  "kernelspec": {
   "display_name": "myenv",
   "language": "python",
   "name": "python3"
  },
  "language_info": {
   "codemirror_mode": {
    "name": "ipython",
    "version": 3
   },
   "file_extension": ".py",
   "mimetype": "text/x-python",
   "name": "python",
   "nbconvert_exporter": "python",
   "pygments_lexer": "ipython3",
   "version": "3.10.18"
  }
 },
 "nbformat": 4,
 "nbformat_minor": 5
}
