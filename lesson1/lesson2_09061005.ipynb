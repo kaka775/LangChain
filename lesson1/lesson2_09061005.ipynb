{
 "cells": [
  {
   "cell_type": "markdown",
   "id": "391c9763",
   "metadata": {},
   "source": [
    "python 數學運算\n",
    "# 基本語法：變數名稱 = 值\n",
    "name = \"小明\"\n",
    "age = 18\n",
    "height = 175.5\n",
    "is_student = True"
   ]
  },
  {
   "cell_type": "code",
   "execution_count": 3,
   "id": "536d3067",
   "metadata": {},
   "outputs": [
    {
     "name": "stdout",
     "output_type": "stream",
     "text": [
      "小明\n",
      "<class 'str'>\n",
      "================\n",
      "18\n",
      "<class 'int'>\n",
      "=================\n",
      "175.5\n",
      "<class 'float'>\n",
      "===============\n",
      "True\n",
      "<class 'bool'>\n"
     ]
    }
   ],
   "source": [
    "name = \"小明\"\n",
    "print(name)\n",
    "print(type(name)) #呼叫function\n",
    "print('================')\n",
    "\n",
    "\n",
    "age = 18\n",
    "print(age)\n",
    "print(type(age))\n",
    "print('=================')\n",
    "\n",
    "height = 175.5\n",
    "print(height)\n",
    "print(type(height))\n",
    "print('===============')\n",
    "\n",
    "\n",
    "is_student = True\n",
    "print(is_student)\n",
    "print(type(is_student))\n",
    "\n"
   ]
  },
  {
   "cell_type": "code",
   "execution_count": 5,
   "id": "c5563df6",
   "metadata": {},
   "outputs": [
    {
     "name": "stdout",
     "output_type": "stream",
     "text": [
      "name變數儲存的值是小明資料型態是<class 'str'>.\n",
      "age變數儲存的值是18資料型態是<class 'int'>.\n",
      "height變數儲存的值是 175.5\n",
      "is_student變數儲存的值是 True\n"
     ]
    }
   ],
   "source": [
    "print(\"name變數儲存的值是\", name,\"資料型態是\", type(name),sep='',end='.\\n')\n",
    "print(\"age變數儲存的值是\", age,\"資料型態是\", type(age),sep='',end='.\\n')\n",
    "\n",
    "print(\"height變數儲存的值是\", height)\n",
    "print(\"is_student變數儲存的值是\", is_student)\n",
    "\n",
    "\n"
   ]
  },
  {
   "cell_type": "code",
   "execution_count": null,
   "id": "885a8ba4",
   "metadata": {},
   "outputs": [
    {
     "name": "stdout",
     "output_type": "stream",
     "text": [
      "name變數儲存的值是小明,資料型態是<class 'str'>.\n",
      "age變數儲存的值是18,資料型態是<class 'int'>.\n",
      "height變數儲存的值是175.5,資料型態是<class 'float'>.\n",
      "is_student變數儲存的值是True,資料型態是<class 'bool'>.\n"
     ]
    }
   ],
   "source": [
    "# 字串差捕\n",
    "\n",
    "print(f\"name變數儲存的值是{name},資料型態是{type(name)}.\")\n",
    "\n",
    "print(f\"age變數儲存的值是{age},資料型態是{type(age)}.\")\n",
    "print(f\"height變數儲存的值是{height},資料型態是{type(height)}.\")\n",
    "print(f\"is_student變數儲存的值是{is_student},資料型態是{type(is_student)}.\")\n",
    "\n",
    "\n"
   ]
  },
  {
   "cell_type": "code",
   "execution_count": 14,
   "id": "f9756c23",
   "metadata": {},
   "outputs": [
    {
     "name": "stdout",
     "output_type": "stream",
     "text": [
      "加法 a + b = 10\n",
      "減法 a - b = 4\n",
      "乘法 a * b = 21\n",
      "除法 a / b = 2.33\n",
      "取餘數 a % b = 1\n",
      "次方 a ** b = 343\n"
     ]
    }
   ],
   "source": [
    "# 數學運算範例\n",
    "a = 7\n",
    "b = 3\n",
    "\n",
    "addition = a + b\n",
    "subtraction = a - b\n",
    "multiplication = a * b\n",
    "division = a / b\n",
    "modulus = a % b\n",
    "exponent = a ** b\n",
    "\n",
    "print(f\"加法 a + b = {addition}\")\n",
    "print(f\"減法 a - b = {subtraction}\")\n",
    "print(f\"乘法 a * b = {multiplication}\")\n",
    "print(f\"除法 a / b = {division:.2f}\")\n",
    "print(f\"取餘數 a % b = {modulus}\")\n",
    "print(f\"次方 a ** b = {exponent}\")"
   ]
  },
  {
   "cell_type": "code",
   "execution_count": 15,
   "id": "75293e65",
   "metadata": {},
   "outputs": [
    {
     "name": "stdout",
     "output_type": "stream",
     "text": [
      "斜邊長度 = 5.00\n",
      "斜邊長度 = 6.40\n"
     ]
    }
   ],
   "source": [
    "# 有一個直角三角形，已知兩邊長，求第三邊長\n",
    "# 已知兩邊長，求第三邊長\n",
    "\n",
    "import math\n",
    "\n",
    "adjacent_side = 3  # 鄰邊長度\n",
    "opposite_side = 4  # 對邊長度\n",
    "\n",
    "# 使用畢氏定理計算斜邊長度\n",
    "hypotenuse_length = math.sqrt(adjacent_side**2 + opposite_side**2)\n",
    "\n",
    "print(f\"斜邊長度 = {hypotenuse_length:.2f}\")\n",
    "斜邊長度 = 5.00\n",
    "import math\n",
    "\n",
    "adjacent_side = 5\n",
    "opposite_side = 4\n",
    "\n",
    "hypotenuse_length = math.sqrt(adjacent_side ** 2 + opposite_side ** 2)\n",
    "print(f\"斜邊長度 = {hypotenuse_length:.2f}\")\n",
    "斜邊長度 = 6.40"
   ]
  }
 ],
 "metadata": {
  "kernelspec": {
   "display_name": "katniss",
   "language": "python",
   "name": "python3"
  },
  "language_info": {
   "codemirror_mode": {
    "name": "ipython",
    "version": 3
   },
   "file_extension": ".py",
   "mimetype": "text/x-python",
   "name": "python",
   "nbconvert_exporter": "python",
   "pygments_lexer": "ipython3",
   "version": "3.11.13"
  }
 },
 "nbformat": 4,
 "nbformat_minor": 5
}
