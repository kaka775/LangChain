{
 "cells": [
  {
   "cell_type": "code",
   "execution_count": 1,
   "id": "a1e76bb1",
   "metadata": {},
   "outputs": [],
   "source": [
    "# 導入必要的套件\n",
    "from langchain.prompts import ChatPromptTemplate\n",
    "from langchain.schema.output_parser import StrOutputParser\n",
    "from langchain.schema.runnable import RunnableParallel, RunnableLambda\n",
    "from langchain_ollama import ChatOllama\n",
    "\n",
    "# 建立 Ollama 模型\n",
    "model = ChatOllama(\n",
    "    model=\"gemma3:1b\",\n",
    "    temperature=0.7\n",
    ")\n"
   ]
  },
  {
   "cell_type": "code",
   "execution_count": 2,
   "id": "6a326d8c",
   "metadata": {},
   "outputs": [],
   "source": [
    "# 定義主要的提示模板 - 餐廳評論分析\n",
    "prompt_template = ChatPromptTemplate.from_messages(\n",
    "    [\n",
    "        (\"system\", \"你是一個專業的餐廳評論家，擅長分析餐廳的優缺點。\"),\n",
    "        (\"human\", \"請分析這家餐廳：{restaurant_info}\"),\n",
    "    ]\n",
    ")\n"
   ]
  },
  {
   "cell_type": "code",
   "execution_count": 3,
   "id": "8b353f2c",
   "metadata": {},
   "outputs": [],
   "source": [
    "chain = (\n",
    "    prompt_template\n",
    "    | model\n",
    "    | StrOutputParser()\n",
    ")"
   ]
  },
  {
   "cell_type": "code",
   "execution_count": 4,
   "id": "69879819",
   "metadata": {},
   "outputs": [
    {
     "name": "stdout",
     "output_type": "stream",
     "text": [
      "好的，作為一位專業的餐廳評論家，我來對這家台北市中心義大利餐廳進行分析：\n",
      "\n",
      "**總體評估：** 這家餐廳在追求經典義大利料理的目標上取得了一定的成就，但整體體驗存在一些需要改進的地方，尤其是在價格、服務和用餐體驗的平衡方面。\n",
      "\n",
      "**優點：**\n",
      "\n",
      "* **環境和服務：** 餐廳的環境和服務是其最大的優勢。 台北市中心的位置，營造了優雅、高雅的氛圍，能給予顧客一種高級感。 服務人員的親切和專業，在一定程度上可以提升顧客的整體體驗。\n",
      "* **食物品質：** 餐廳提供的義大利料理本身品質不錯。 菜色豐富，食材新鮮，烹調技術基本來說是合格的。  雖然份量偏少，但食物的整體味道和口感，在同價位內來說，仍然可以接受。\n",
      "* **適合特殊場合：** 餐廳的定位鎖定的是約會或特殊場合的顧客。 這種氛圍和服務，更適合追求浪漫、精致的用餐體驗。\n",
      "\n",
      "**缺點：**\n",
      "\n",
      "* **價格：** 這是最顯著的缺點。 價格偏高，對於許多消費者的經濟能力而言，可能是一個阻礙。 雖然價位高，但如果將價格與提供的價值相比，可能需要重新評估。\n",
      "* **等待時間：**  這也是一個重要的問題。  等待時間長期較長，會影響顧客的用餐體驗，尤其是在用餐高峰期。 這暗示餐廳的經營策略可能需要調整，例如提升效率，或考慮增加座位。\n",
      "* **份量：** 份量偏少，這會讓顧客感到物有所值，也可能影響用餐的價值感。  需要考慮是否需要調整菜單，增加菜品種類，以提升每份菜的價值。\n",
      "\n",
      "\n",
      "**建議與改進方向：**\n",
      "\n",
      "* **價格調整：**  需要審視餐廳的價格結構，考慮是否需要調整價格，以降低消費者的經濟壓力，並提升整體價值。\n",
      "* **提升服務效率：** 改善服務流程，提升服務效率，例如更頻繁的點餐、更快速的菜單更新、更及時的服務等。\n",
      "* **改善用餐體驗：** 考慮增加一些小巧的提升，例如：\n",
      "    * **用餐區規劃：**  考慮調整用餐區的布局，增加舒適的座位，提升用餐空間的寬度。\n",
      "    * **用餐環境：**  可以考慮增加一些裝飾，讓環境更加雅緻，提升整體氛圍。\n",
      "    * **音樂環境：**  可以調整音樂環境，讓顧客的用餐體驗更加輕鬆愉快。\n",
      "* **菜單調整：**  考慮調整菜單，增加一些更實惠、但同樣美味的選擇，以提升整體價值。\n",
      "\n",
      "**總結：** 這家餐廳的優點在於環境和服務，但價格和等待時間是需要重點關注的挑戰。  如果能針對上述缺點進行改進，並提升整體體驗，這家餐廳就能更具競爭力，吸引更多顧客。\n",
      "\n",
      "**為了更深入的分析，我需要更多資訊，例如：**\n",
      "\n",
      "*   餐廳的菜單和價格範圍？\n",
      "*   餐廳的顧客群體？\n",
      "*   餐廳的營業時間和客流量？\n",
      "\n",
      "希望這個分析對您有幫助！\n"
     ]
    }
   ],
   "source": [
    "restaurant_info = \"\"\"\n",
    "這是一家位於台北市中心的義大利餐廳，提供傳統義式料理。\n",
    "餐廳環境優雅，服務人員親切，但價格偏高，等待時間較長。\n",
    "食物品質不錯，但份量偏少。適合約會或特殊場合用餐。\n",
    "\"\"\"\n",
    "\n",
    "result = chain.invoke({\"restaurant_info\": restaurant_info})\n",
    "\n",
    "print(result)\n"
   ]
  }
 ],
 "metadata": {
  "kernelspec": {
   "display_name": ".venv",
   "language": "python",
   "name": "python3"
  },
  "language_info": {
   "codemirror_mode": {
    "name": "ipython",
    "version": 3
   },
   "file_extension": ".py",
   "mimetype": "text/x-python",
   "name": "python",
   "nbconvert_exporter": "python",
   "pygments_lexer": "ipython3",
   "version": "3.13.7"
  }
 },
 "nbformat": 4,
 "nbformat_minor": 5
}
