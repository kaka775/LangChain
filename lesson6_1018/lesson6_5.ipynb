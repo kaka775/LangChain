{
 "cells": [
  {
   "cell_type": "code",
   "execution_count": 1,
   "id": "9f5010d6",
   "metadata": {},
   "outputs": [],
   "source": [
    "from langchain.prompts import ChatPromptTemplate\n",
    "from langchain.schema.output_parser import StrOutputParser\n",
    "from langchain_ollama.llms import OllamaLLM\n",
    "from langchain.schema.runnable import RunnableLambda\n",
    "\n",
    "#model = OllamaLLM(model=\"llama3.2:latest\")\n",
    "model = OllamaLLM(model=\"gemma3:1b\")\n"
   ]
  },
  {
   "cell_type": "code",
   "execution_count": 2,
   "id": "328204f1",
   "metadata": {},
   "outputs": [],
   "source": [
    "prompt_template = ChatPromptTemplate.from_messages([\n",
    "    (\"system\",\"你是一個專業的客服代表，負責回覆客戶郵件。請用友善和專業的語調回覆。請不要回覆(公司的資訊和結尾詞),我會自已手動增加\"),\n",
    "    (\"human\",\"請回覆這封客戶郵件：\\n\\n{email_content}\")\n",
    "])"
   ]
  },
  {
   "cell_type": "code",
   "execution_count": 3,
   "id": "f161a77d",
   "metadata": {},
   "outputs": [],
   "source": [
    "def format_email_reply(ai_answer:str) -> str:\n",
    "    import datetime\n",
    "    date_str = datetime.datetime.now().strftime(\"中華民國,西元%Y-%m-%d %H:%M\")\n",
    "    formatted_reply = f\"\"\"{ai_answer}\n",
    "\n",
    "感謝您的來信，如有其他問題請隨時聯繫我們。\n",
    "\n",
    "此致\n",
    "致理客服團隊\n",
    "\n",
    "回覆時間:{date_str}\n",
    "\"\"\"\n",
    "\n",
    "    print(f\"ai回覆的內容:{formatted_reply}\")\n",
    "\n",
    "    return {\"formatted_reply\":formatted_reply}\n",
    "\n",
    "format_email = RunnableLambda(format_email_reply)\n"
   ]
  },
  {
   "cell_type": "code",
   "execution_count": 4,
   "id": "bfbac78d",
   "metadata": {},
   "outputs": [],
   "source": [
    "improve_prompt = ChatPromptTemplate.from_messages(\n",
    "    [\n",
    "        (\"system\",\"你是郵件品質專家。請評估這封郵件的專業度、友善度和完整度（1-10分），並提供具體的改進建議。\"),\n",
    "        (\"human\",\"估並改進這封郵件:\\n\\n{formatted_reply}\")\n",
    "    ]\n",
    ")"
   ]
  },
  {
   "cell_type": "code",
   "execution_count": 5,
   "id": "40be7dc4",
   "metadata": {},
   "outputs": [],
   "source": [
    "chain = (prompt_template \n",
    "        | model\n",
    "        | StrOutputParser()\n",
    "        | format_email\n",
    "        | improve_prompt\n",
    "        | model\n",
    "        | StrOutputParser()\n",
    ")"
   ]
  },
  {
   "cell_type": "code",
   "execution_count": 6,
   "id": "4bd3a6a9",
   "metadata": {},
   "outputs": [],
   "source": [
    "customer_email = \"\"\"您好:\n",
    "\n",
    "我最近購買了貴公司的產品，但是發現包裝有損壞，而且產品功能與說明書不符。\n",
    "請問可以退貨或換貨嗎？我已經購買一週了。\n",
    "\n",
    "期待您的回覆。\n",
    "\n",
    "\n",
    "王小明\"\"\""
   ]
  },
  {
   "cell_type": "code",
   "execution_count": 7,
   "id": "9e1bfc53",
   "metadata": {},
   "outputs": [
    {
     "name": "stdout",
     "output_type": "stream",
     "text": [
      "ai回覆的內容:您好，王小明您好！\n",
      "\n",
      "非常抱歉聽到您收到產品有損壞和功能與說明書不符，這讓您感到不愉快。我們深感遺憾，這會影響您的體驗。\n",
      "\n",
      "針對您提出的問題，我們非常重視客戶滿意度，請您盡快向我們提供以下資訊，以便我們快速處理：\n",
      "\n",
      "*   請提供產品的購買憑證（例如：收據、訂單號碼等）。\n",
      "*   請描述損壞和功能不符的具體情況，包括照片或影片（如果可以的話）。\n",
      "\n",
      "我們會立即為您處理退貨或換貨，並盡快安排換貨或退款，讓您獲得滿意的解決方案。\n",
      "\n",
      "期待您的回覆，我們會盡快協助您。\n",
      "\n",
      "謝謝您的耐心與理解。\n",
      "\n",
      "此致，\n",
      "\n",
      "[你的客服代表姓名/名稱]\n",
      "\n",
      "---\n",
      "\n",
      "希望這個回覆符合您的要求。\n",
      "\n",
      "\n",
      "感謝您的來信，如有其他問題請隨時聯繫我們。\n",
      "\n",
      "此致\n",
      "致理客服團隊\n",
      "\n",
      "回覆時間:中華民國,西元2025-10-18 15:28\n",
      "\n",
      "好的，我來評估並改進這封郵件，並提供具體的改進建議，分數為 **7/10**\n",
      "\n",
      "**評分與分析：**\n",
      "\n",
      "* **專業度 (6/10):** 郵件整體寫作清晰，表達了誠意和解決問題的態度，但缺乏一些專業的語氣和細節。\n",
      "* **友善度 (8/10):** 禮貌的措辭和表達歉意的語氣讓郵件顯得更友善。但整體來說，更可以寫得更感人一些。\n",
      "* **完整度 (7/10):** 郵件提供了必要的資訊，但缺少一些重要的信息，例如退貨/換貨流程，以及常見的客服聯繫方式。\n",
      "* **語氣 (7/10):** 語氣較為正式，可以更細膩地調整，讓郵件更具同理心和行動力。\n",
      "\n",
      "**改進建議：**\n",
      "\n",
      "以下是針對郵件內容和語氣的改進建議：\n",
      "\n",
      "1. **更強烈的歉意和理解：**\n",
      "   * 原文： “非常抱歉聽到您收到產品有損壞和功能與說明書不符”\n",
      "   * 改為： “非常抱歉聽到您收到產品有損壞和功能與說明書不符，這讓您感到非常遺憾，這會影響您的體驗。我們深感遺憾，這會影響您的體驗。”\n",
      "   * 目的： 讓客戶感受到公司的關心和誠意。\n",
      "\n",
      "2. **更具體的解決方案，減少等待時間：**\n",
      "   * 原文： “我們會立即為您處理退貨或換貨，並盡快安排換貨或退款，讓您獲得滿意的解決方案。”\n",
      "   * 改為： “我們立刻為您安排退貨或換貨處理，並盡快安排換貨或退款，讓您獲得滿意的解決方案。為了更好地幫助您，我們建議您在 [時間段] 陸續聯繫我們的客服，以便我們能盡快處理您的問題。”\n",
      "   * 目的： 明确了后续流程，并展现了客服团队的快速响应意愿。\n",
      "\n",
      "3. **增加客戶滿意度及積極性：**\n",
      "   * 原文： “我們會盡快協助您。”\n",
      "   * 改為：“我們期待能為您提供專業的解決方案，讓您獲得滿意的體驗。我們相信，透過我們的專業協助，您一定可以快速解決問題。”\n",
      "\n",
      "4. **簡化聯繫方式，提升易用性：**\n",
      "   * 原文： “此致，[你的客服代表姓名/名稱]”\n",
      "   * 改為：“您可直接致電客服熱線：[客服電話號碼]，或透過我們的線上客服 [客服網站/App連結] 聯繫我們。”\n",
      "   * 目的：讓客戶更方便地聯繫客服。\n",
      "\n",
      "5. **情感語氣：**\n",
      "   * 原文： “期待您的回覆”\n",
      "   * 改為：“期待您的回覆，以便我們能盡快處理您的問題。” (更具體且友好)\n",
      "\n",
      "**修改後的郵件範例：**\n",
      "\n",
      "您好，王小明您好！\n",
      "\n",
      "非常抱歉聽到您收到產品有損壞和功能與說明書不符，這讓您感到遺憾，我們深感遺憾，這會影響您的體驗。我們緊抓緊，將立刻為您安排退貨或換貨處理，並盡快安排換貨或退款，讓您獲得滿意的解決方案。 為了更好地幫助您，我們建議您在 [時間段] 陸續聯繫我們的客服，以便我們能盡快處理您的問題。\n",
      "\n",
      "期待您的回覆，以便我們能盡快處理您的問題。\n",
      "\n",
      "您可直接致電客服熱線：[客服電話號碼]，或透過我們的線上客服 [客服網站/App連結] 聯繫我們。\n",
      "\n",
      "謝謝您的耐心與理解。\n",
      "\n",
      "此致，\n",
      "\n",
      "[你的客服代表姓名/名稱]\n",
      "\n",
      "---\n",
      "\n",
      "總體而言，這封郵件的內容與語氣已經提升了不少，改進後的郵件更具專業性，也更有助於建立良好客戶關係。 希望這些建議對您有幫助！\n"
     ]
    }
   ],
   "source": [
    "result = chain.invoke({\n",
    "    \"email_content\":customer_email\n",
    "})\n",
    "\n",
    "print(result)"
   ]
  }
 ],
 "metadata": {
  "kernelspec": {
   "display_name": ".venv",
   "language": "python",
   "name": "python3"
  },
  "language_info": {
   "codemirror_mode": {
    "name": "ipython",
    "version": 3
   },
   "file_extension": ".py",
   "mimetype": "text/x-python",
   "name": "python",
   "nbconvert_exporter": "python",
   "pygments_lexer": "ipython3",
   "version": "3.13.7"
  }
 },
 "nbformat": 4,
 "nbformat_minor": 5
}
