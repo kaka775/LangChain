{
 "cells": [
  {
   "cell_type": "code",
   "execution_count": 14,
   "id": "9f5010d6",
   "metadata": {},
   "outputs": [],
   "source": [
    "from langchain.prompts import ChatPromptTemplate\n",
    "from langchain.schema.output_parser import StrOutputParser\n",
    "from langchain_ollama.llms import OllamaLLM\n",
    "\n",
    "#model = OllamaLLM(model=\"llama3.2:latest\")\n",
    "model = OllamaLLM(model=\"gemma3:1b\")\n"
   ]
  },
  {
   "cell_type": "code",
   "execution_count": 15,
   "id": "328204f1",
   "metadata": {},
   "outputs": [],
   "source": [
    "prompt_template = ChatPromptTemplate.from_messages([\n",
    "    (\"system\",\"你是一個專業的客服代表，負責回覆客戶郵件。請用友善、專業的語調回覆。\"),\n",
    "    (\"human\",\"請回覆這封客戶郵件：\\n\\n{email_content}\")\n",
    "])"
   ]
  },
  {
   "cell_type": "code",
   "execution_count": 16,
   "id": "40be7dc4",
   "metadata": {},
   "outputs": [],
   "source": [
    "chain = (prompt_template \n",
    "        | model\n",
    "        | StrOutputParser()\n",
    ")"
   ]
  },
  {
   "cell_type": "code",
   "execution_count": 17,
   "id": "4bd3a6a9",
   "metadata": {},
   "outputs": [],
   "source": [
    "customer_email = \"\"\"您好:\n",
    "\n",
    "我最近購買了貴公司的產品，但是發現包裝有損壞，而且產品功能與說明書不符。\n",
    "請問可以退貨或換貨嗎？我已經購買一週了。\n",
    "\n",
    "期待您的回覆。\n",
    "\n",
    "\n",
    "王小明\"\"\""
   ]
  },
  {
   "cell_type": "code",
   "execution_count": 18,
   "id": "9e1bfc53",
   "metadata": {},
   "outputs": [
    {
     "name": "stdout",
     "output_type": "stream",
     "text": [
      "您好王小明您好！\n",
      "\n",
      "非常抱歉聽到您收到產品有損壞和功能不符，這對我們來說也是無法接受的。我們深感遺憾，讓您失望。\n",
      "\n",
      "收到您的郵件，我們會立即處理這個問題。為了協助您，請您盡量提供以下資訊：\n",
      "\n",
      "1.  **產品名稱與款式號碼/產品碼**（方便我們快速識別您的商品）\n",
      "2.  **購買紀錄（訂單號碼）**\n",
      "3.  **損壞狀況的照片/影片**（如果可以，協助我們評估情況）\n",
      "4.  **說明書中的不符部分**（詳細說明，讓我們知道您遇到什麼問題）\n",
      "\n",
      "我們會盡快處理您的退貨或換貨申請。\n",
      "\n",
      "我們非常重視您的意見，並會確保您獲得滿意的服務。\n",
      "\n",
      "期待您的回覆，並盡快與您聯繫。\n",
      "\n",
      "謝謝！\n",
      "\n",
      "此致\n",
      "\n",
      "[您的客服團隊名稱]\n",
      "\n",
      "[您的公司聯繫方式]\n",
      "\n",
      "---\n",
      "\n",
      "**注意事項：**\n",
      "\n",
      "*   請務必用您公司的官方風格來撰寫回覆。\n",
      "*   根據您的公司政策，在退貨或換貨流程中，可能會有更多步驟需要您跟進。\n",
      "*   如果問題比較複雜，建議您告知客戶您需要他們提供更多資訊，並確保他們會收到您的通知。\n",
      "\n",
      "希望這能幫到您！\n",
      "\n"
     ]
    }
   ],
   "source": [
    "result = chain.invoke({\n",
    "    \"email_content\":customer_email\n",
    "})\n",
    "\n",
    "print(result)"
   ]
  }
 ],
 "metadata": {
  "kernelspec": {
   "display_name": ".venv",
   "language": "python",
   "name": "python3"
  },
  "language_info": {
   "codemirror_mode": {
    "name": "ipython",
    "version": 3
   },
   "file_extension": ".py",
   "mimetype": "text/x-python",
   "name": "python",
   "nbconvert_exporter": "python",
   "pygments_lexer": "ipython3",
   "version": "3.13.7"
  }
 },
 "nbformat": 4,
 "nbformat_minor": 5
}
