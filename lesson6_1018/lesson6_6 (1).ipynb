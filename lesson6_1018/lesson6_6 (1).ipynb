{
 "cells": [
  {
   "cell_type": "code",
   "execution_count": 18,
   "id": "a1e76bb1",
   "metadata": {},
   "outputs": [],
   "source": [
    "# 導入必要的套件\n",
    "from langchain.prompts import ChatPromptTemplate\n",
    "from langchain.schema.output_parser import StrOutputParser\n",
    "from langchain.schema.runnable import RunnableParallel, RunnableLambda\n",
    "from langchain_ollama import ChatOllama\n",
    "\n",
    "# 建立 Ollama 模型\n",
    "model = ChatOllama(\n",
    "    model=\"gpt-oss:20b\",\n",
    "    temperature=0.7\n",
    ")\n"
   ]
  },
  {
   "cell_type": "code",
   "execution_count": 19,
   "id": "6a326d8c",
   "metadata": {},
   "outputs": [],
   "source": [
    "# 定義主要的提示模板 - 餐廳評論分析\n",
    "prompt_template = ChatPromptTemplate.from_messages(\n",
    "    [\n",
    "        (\"system\", \"你是一個專業的餐廳評論家，擅長分析餐廳的優缺點。\"),\n",
    "        (\"human\", \"請分析這家餐廳：{restaurant_info}\"),\n",
    "    ]\n",
    ")\n"
   ]
  },
  {
   "cell_type": "code",
   "execution_count": 20,
   "id": "1970b7a8",
   "metadata": {},
   "outputs": [],
   "source": [
    "pros_template = ChatPromptTemplate.from_messages(\n",
    "        [\n",
    "            (\"system\", \"你是一個專業的餐廳評論家，專門分析餐廳的優點。\"),\n",
    "            (\"human\", \"根據餐廳資訊：{restaurant_info}，請列出這家餐廳的優點。\"),\n",
    "        ]\n",
    ")\n",
    "\n",
    "pros_branch_chain = (\n",
    "    pros_template\n",
    "    | model\n",
    "    | StrOutputParser()\n",
    ")"
   ]
  },
  {
   "cell_type": "code",
   "execution_count": 21,
   "id": "4300a568",
   "metadata": {},
   "outputs": [],
   "source": [
    "cons_template = ChatPromptTemplate.from_messages(\n",
    "        [\n",
    "            (\"system\", \"你是一個專業的餐廳評論家，專門分析餐廳的缺點。\"),\n",
    "            (\"human\", \"根據餐廳資訊：{restaurant_info}，請列出這家餐廳的缺點。\"),\n",
    "        ]\n",
    ")\n",
    "\n",
    "cons_branch_chain =(\n",
    "    cons_template\n",
    "    | model\n",
    "    | StrOutputParser() \n",
    "    \n",
    ")"
   ]
  },
  {
   "cell_type": "code",
   "execution_count": 22,
   "id": "980231d0",
   "metadata": {},
   "outputs": [],
   "source": [
    "def combine_pros_cons(pros, cons):\n",
    "    \"\"\"將優點和缺點合併成最終評論\"\"\"\n",
    "    return f\"\"\"\n",
    "🍽️ 餐廳評論分析報告\n",
    "{'='*50}\n",
    "\n",
    "✅ 優點分析：\n",
    "{pros}\n",
    "\n",
    "❌ 缺點分析：\n",
    "{cons}\n",
    "\n",
    "📊 總結：這是一個平衡的餐廳評論分析\n",
    "\"\"\""
   ]
  },
  {
   "cell_type": "code",
   "execution_count": 23,
   "id": "8b353f2c",
   "metadata": {},
   "outputs": [],
   "source": [
    "chain = (\n",
    "    prompt_template\n",
    "    | model\n",
    "    | StrOutputParser()\n",
    "    | RunnableLambda(lambda x:{\"restaurant_info\":x})\n",
    "    | RunnableParallel(\n",
    "        pros = pros_branch_chain,\n",
    "        cons = cons_branch_chain\n",
    "    )\n",
    "    | RunnableLambda(lambda x: combine_pros_cons(x['pros'],x['cons']))\n",
    ")"
   ]
  },
  {
   "cell_type": "code",
   "execution_count": 24,
   "id": "69879819",
   "metadata": {},
   "outputs": [
    {
     "name": "stdout",
     "output_type": "stream",
     "text": [
      "\n",
      "🍽️ 餐廳評論分析報告\n",
      "==================================================\n",
      "\n",
      "✅ 優點分析：\n",
      "**這家台北市中心義大利餐廳的優點總結：**\n",
      "\n",
      "- **優雅舒適的環境**  \n",
      "  乾淨、寬敞的空間，木質與歐式古典裝潢，柔和燈光與適度音樂營造出浪漫、安靜的用餐氛圍，讓客人能專注於美食與互動。\n",
      "\n",
      "- **親切專業的服務**  \n",
      "  服務人員熟悉菜單，能即時提供中餐與酒水搭配建議，讓非義式料理愛好者也能安心點餐並享受個性化建議。\n",
      "\n",
      "- **高品質正宗義大利料理**  \n",
      "  主打炭烤牛排、海鮮燉飯、手工意粉等料理，食材新鮮、口味純正，堅守義大利傳統風味。\n",
      "\n",
      "- **適合多種場合**  \n",
      "  典雅氛圍與相對安靜的用餐區，特別適合情侶約會、商務聚餐、生日慶祝等重要場合。\n",
      "\n",
      "- **豐富多樣的酒水選擇**  \n",
      "  提供多款義大利紅白葡萄酒與手工啤酒，能與餐點完美搭配，提升整體味覺層次。\n",
      "\n",
      "- **服務細節提升用餐體驗**  \n",
      "  服務人員會在餐前提供酒水搭配建議與餐後甜點推薦，並可針對常客或會員提供專屬優惠，提升客戶忠誠度。\n",
      "\n",
      "這些優點共同營造出一個既能享受正宗義大利風味，又能感受台北市中心獨特氛圍的高品質用餐場所。\n",
      "\n",
      "❌ 缺點分析：\n",
      "**餐廳缺點（總結）**\n",
      "\n",
      "1. **價格偏高**  \n",
      "   - 以台北市中心標準來看，單點與套餐價格均屬高價位，可能讓預算有限的客群望而卻步。\n",
      "\n",
      "2. **等待時間長**  \n",
      "   - 週末與晚餐高峰期常需排隊 30–60 分鐘，影響用餐時間規劃，對急於就餐者不利。\n",
      "\n",
      "3. **份量相對較小**  \n",
      "   - 主菜份量小，配菜亦偏少，容易讓饑餓的客人感到不滿，尤其是喜歡大份量的消費者。\n",
      "\n",
      "4. **菜單選擇有限**  \n",
      "   - 雖以傳統義大利料理為主，但創新菜品與素食選項有限，可能無法滿足多元飲食需求。\n",
      "\n",
      "---\n",
      "\n",
      "以上四項為此餐廳最主要的缺點，建議在預約或選擇時加以考量。\n",
      "\n",
      "📊 總結：這是一個平衡的餐廳評論分析\n",
      "\n"
     ]
    }
   ],
   "source": [
    "restaurant_info = \"\"\"\n",
    "這是一家位於台北市中心的義大利餐廳，提供傳統義式料理。\n",
    "餐廳環境優雅，服務人員親切，但價格偏高，等待時間較長。\n",
    "食物品質不錯，但份量偏少。適合約會或特殊場合用餐。\n",
    "\"\"\"\n",
    "\n",
    "result = chain.invoke({\"restaurant_info\": restaurant_info})\n",
    "\n",
    "print(result)\n"
   ]
  }
 ],
 "metadata": {
  "kernelspec": {
   "display_name": ".venv",
   "language": "python",
   "name": "python3"
  },
  "language_info": {
   "codemirror_mode": {
    "name": "ipython",
    "version": 3
   },
   "file_extension": ".py",
   "mimetype": "text/x-python",
   "name": "python",
   "nbconvert_exporter": "python",
   "pygments_lexer": "ipython3",
   "version": "3.10.18"
  }
 },
 "nbformat": 4,
 "nbformat_minor": 5
}
