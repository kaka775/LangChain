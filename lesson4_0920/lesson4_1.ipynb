{
 "cells": [
  {
   "cell_type": "markdown",
   "id": "76e45300",
   "metadata": {},
   "source": [
    "## 使用ollama"
   ]
  },
  {
   "cell_type": "code",
   "execution_count": 3,
   "id": "7ea08fa3",
   "metadata": {},
   "outputs": [
    {
     "name": "stdout",
     "output_type": "stream",
     "text": [
      "<class 'langchain_core.messages.ai.AIMessage'>\n",
      "所有答案\n",
      "content='81除以9等于9。\\n\\n81 ÷ 9 = 9\\n' additional_kwargs={} response_metadata={'model': 'gemma3:1b', 'created_at': '2025-09-20T06:38:24.597694Z', 'done': True, 'done_reason': 'stop', 'total_duration': 2230230530, 'load_duration': 343419407, 'prompt_eval_count': 18, 'prompt_eval_duration': 121915238, 'eval_count': 19, 'eval_duration': 1759652638, 'model_name': 'gemma3:1b'} id='run--1ea1c014-113b-4475-b6cb-12520cd86b9e-0' usage_metadata={'input_tokens': 18, 'output_tokens': 19, 'total_tokens': 37}\n",
      "回答內容是\n",
      "81除以9等于9。\n",
      "\n",
      "81 ÷ 9 = 9\n",
      "\n"
     ]
    }
   ],
   "source": [
    "from langchain_ollama import ChatOllama\n",
    "\n",
    "\n",
    "# Create a ChatOllama model\n",
    "# 透過網址的方式連結ollama (指定 base_url 指向 Ollama server)\n",
    "# 預設 Ollama server 在本機的 11434 埠，若在其他主機或埠請改成相對應的網址\n",
    "\n",
    "#model = ChatOllama(model=\"llama3.2:latest\", base_url=\"http://host.docker.internal:11434\")\n",
    "model = ChatOllama(model=\"gemma3:1b\",base_url=\"http://localhost:11434\")\n",
    "\n",
    "\n",
    "# Invoke the model with a message\n",
    "result = model.invoke(\"81除以9的答案是?\")\n",
    "print(type(result))\n",
    "print(\"所有答案\")\n",
    "print(result)\n",
    "print(\"回答內容是\")\n",
    "print(result.content)"
   ]
  },
  {
   "cell_type": "markdown",
   "id": "6ce832d5",
   "metadata": {},
   "source": [
    "### google"
   ]
  },
  {
   "cell_type": "code",
   "execution_count": 13,
   "id": "e8946aeb",
   "metadata": {},
   "outputs": [
    {
     "name": "stderr",
     "output_type": "stream",
     "text": [
      "E0000 00:00:1758355480.927610  288246 alts_credentials.cc:93] ALTS creds ignored. Not running on GCP and untrusted ALTS is not enabled.\n"
     ]
    },
    {
     "name": "stdout",
     "output_type": "stream",
     "text": [
      "<class 'langchain_core.messages.ai.AIMessage'>\n",
      "所有答案\n",
      "content='9778 除以 9 的答案是：\\n\\n* **商 (Quotient): 1086**\\n* **余数 (Remainder): 4**\\n\\n所以，9778 = 9 × 1086 + 4。' additional_kwargs={} response_metadata={'prompt_feedback': {'block_reason': 0, 'safety_ratings': []}, 'finish_reason': 'STOP', 'model_name': 'gemini-2.5-flash', 'safety_ratings': []} id='run--dc15d3e4-b53b-434e-8dd9-87ca16a53062-0' usage_metadata={'input_tokens': 12, 'output_tokens': 273, 'total_tokens': 285, 'input_token_details': {'cache_read': 0}, 'output_token_details': {'reasoning': 216}}\n",
      "回答內容是\n",
      "9778 除以 9 的答案是：\n",
      "\n",
      "* **商 (Quotient): 1086**\n",
      "* **余数 (Remainder): 4**\n",
      "\n",
      "所以，9778 = 9 × 1086 + 4。\n"
     ]
    }
   ],
   "source": [
    "from dotenv import load_dotenv\n",
    "from langchain_google_genai import ChatGoogleGenerativeAI\n",
    "\n",
    "# Load environment variables from .env\n",
    "load_dotenv()\n",
    "\n",
    "# Create a ChatGoogleGenerativeAI model\n",
    "model = ChatGoogleGenerativeAI(model=\"gemini-2.5-flash\")\n",
    "\n",
    "#Invoke the model with a message\n",
    "result = model.invoke(\"9778除以9的答案是?\")\n",
    "print(type(result))\n",
    "print(\"所有答案\")\n",
    "print(result)\n",
    "print(\"回答內容是\")\n",
    "print(result.content)"
   ]
  }
 ],
 "metadata": {
  "kernelspec": {
   "display_name": ".venv",
   "language": "python",
   "name": "python3"
  },
  "language_info": {
   "codemirror_mode": {
    "name": "ipython",
    "version": 3
   },
   "file_extension": ".py",
   "mimetype": "text/x-python",
   "name": "python",
   "nbconvert_exporter": "python",
   "pygments_lexer": "ipython3",
   "version": "3.13.7"
  }
 },
 "nbformat": 4,
 "nbformat_minor": 5
}
