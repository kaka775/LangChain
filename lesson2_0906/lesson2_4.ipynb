{
 "cells": [
  {
   "cell_type": "code",
   "execution_count": 2,
   "id": "59c69dd8",
   "metadata": {},
   "outputs": [
    {
     "name": "stdout",
     "output_type": "stream",
     "text": [
      "   *   \n",
      "  ***  \n",
      " ***** \n",
      "*******\n",
      "   |   \n"
     ]
    }
   ],
   "source": [
    "#製作一個function,必須列印出聖誕樹,不使用迴圈,只使用純print,要有樹葉和樹幹\n",
    "#todo: 實作function 列印聖誕樹  \n",
    "\n",
    "def print_christmas_tree():\n",
    "    # 樹葉部分\n",
    "    print(\"   *   \")\n",
    "    print(\"  ***  \")\n",
    "    print(\" ***** \")\n",
    "    print(\"*******\")\n",
    "    # 樹幹部分\n",
    "    print(\"   |   \")\n",
    "\n",
    "# 呼叫函式，列印聖誕樹\n",
    "print_christmas_tree()\n"
   ]
  }
 ],
 "metadata": {
  "kernelspec": {
   "display_name": "katniss",
   "language": "python",
   "name": "python3"
  },
  "language_info": {
   "codemirror_mode": {
    "name": "ipython",
    "version": 3
   },
   "file_extension": ".py",
   "mimetype": "text/x-python",
   "name": "python",
   "nbconvert_exporter": "python",
   "pygments_lexer": "ipython3",
   "version": "3.11.13"
  }
 },
 "nbformat": 4,
 "nbformat_minor": 5
}
