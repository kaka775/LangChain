{
 "cells": [
  {
   "cell_type": "code",
   "execution_count": 3,
   "id": "59c69dd8",
   "metadata": {},
   "outputs": [
    {
     "name": "stdout",
     "output_type": "stream",
     "text": [
      "   *   \n",
      "  ***  \n",
      " ***** \n",
      "*******\n",
      "   |   \n"
     ]
    }
   ],
   "source": [
    "#製作一個function,必須列印出聖誕樹,不使用迴圈,只使用純print,要有樹葉和樹幹\n",
    "#todo: 實作function 列印聖誕樹  \n",
    "\n",
    "def print_christmas_tree():\n",
    "    # 樹葉部分\n",
    "    print(\"   *   \")\n",
    "    print(\"  ***  \")\n",
    "    print(\" ***** \")\n",
    "    print(\"*******\")\n",
    "    # 樹幹部分\n",
    "    print(\"   |   \")\n",
    "\n",
    "# 呼叫函式，列印聖誕樹\n",
    "print_christmas_tree()\n"
   ]
  },
  {
   "cell_type": "code",
   "execution_count": null,
   "id": "9f82c85c",
   "metadata": {},
   "outputs": [
    {
     "name": "stdout",
     "output_type": "stream",
     "text": [
      "半徑為5的圓，面積為78.54，圓周長為31.42\n",
      "半徑為88.0的圓，面積為24328.49，圓周長為552.92\n",
      "長方形寬為4，高為6，面積為24，周長為20\n",
      "座標點的 x: 3, y: 8\n"
     ]
    }
   ],
   "source": [
    "#自定一個function,會計算元面積和圓周長\n",
    "#todo: 實作funthion 計算元面積和圓周長\n",
    "import math \n",
    "\n",
    "def circle_area_circumference(radius):\n",
    "    \"\"\"\n",
    "    計算圓的面積與圓周長\n",
    "\n",
    "    參數:\n",
    "        radius (float): 圓的半徑\n",
    "\n",
    "    回傳:\n",
    "        (float, float): (面積, 圓周長)\n",
    "    \"\"\"\n",
    "    area = math.pi * radius ** 2\n",
    "    circumference = 2 * math.pi * radius\n",
    "    return area, circumference\n",
    "\n",
    "# 範例：呼叫函式，計算半徑為5的圓的面積和圓周長\n",
    "r = 5\n",
    "area, circumference = circle_area_circumference(r)\n",
    "print(f\"半徑為{r}的圓，面積為{area:.2f}，圓周長為{circumference:.2f}\")\n",
    "# 請使用者輸入半徑，並計算該圓的面積與圓周長\n",
    "try:\n",
    "    user_radius = float(input(\"請輸入圓的半徑：\"))\n",
    "    area, circumference = circle_area_circumference(user_radius)\n",
    "    print(f\"半徑為{user_radius}的圓，面積為{area:.2f}，圓周長為{circumference:.2f}\")\n",
    "except ValueError:\n",
    "    print(\"請輸入有效的數字作為半徑！\")\n",
    "\n",
    "\n",
    "#tuple的拆解法\n",
    "\n",
    "# tuple的拆解法範例\n",
    "\n",
    "# 假設有一個函式會回傳多個值（例如：圓的面積與圓周長）\n",
    "def get_rectangle_info(width, height):\n",
    "    area = width * height\n",
    "    perimeter = 2 * (width + height)\n",
    "    return area, perimeter\n",
    "\n",
    "# 使用 tuple 拆解法取得多個回傳值\n",
    "w = 4\n",
    "h = 6\n",
    "rect_area, rect_perimeter = get_rectangle_info(w, h)\n",
    "print(f\"長方形寬為{w}，高為{h}，面積為{rect_area}，周長為{rect_perimeter}\")\n",
    "\n",
    "# 也可以直接用 tuple 拆解變數\n",
    "point = (3, 8)\n",
    "x, y = point\n",
    "print(f\"座標點的 x: {x}, y: {y}\")\n",
    "\n"
   ]
  }
 ],
 "metadata": {
  "kernelspec": {
   "display_name": "katniss",
   "language": "python",
   "name": "python3"
  },
  "language_info": {
   "codemirror_mode": {
    "name": "ipython",
    "version": 3
   },
   "file_extension": ".py",
   "mimetype": "text/x-python",
   "name": "python",
   "nbconvert_exporter": "python",
   "pygments_lexer": "ipython3",
   "version": "3.11.13"
  }
 },
 "nbformat": 4,
 "nbformat_minor": 5
}
