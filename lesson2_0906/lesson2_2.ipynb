{
 "cells": [
  {
   "cell_type": "code",
   "execution_count": null,
   "id": "506ddda3",
   "metadata": {},
   "outputs": [
    {
     "name": "stdout",
     "output_type": "stream",
     "text": [
      "斜邊長度 = 6.40\n"
     ]
    }
   ],
   "source": [
    "import math\n",
    "\n",
    "adjacent_side = 5\n",
    "opposite_side = 4\n",
    "\n",
    "hypotenuse_length = math.sqrt(adjacent_side ** 2 + opposite_side ** 2)\n",
    "print(f\"斜邊長度 = {hypotenuse_length:.2f}\")"
   ]
  },
  {
   "cell_type": "code",
   "execution_count": null,
   "id": "4153be3d",
   "metadata": {},
   "outputs": [
    {
     "name": "stdout",
     "output_type": "stream",
     "text": [
      "robert\n",
      "kaka\n",
      "hey hey\n"
     ]
    }
   ],
   "source": [
    "is_nice:bool = False\n",
    "print(\"robert\")\n",
    "#單項選擇\n",
    "if is_nice:\n",
    "    print(\"他人不錯\")\n",
    "\n",
    "is_nice:bool = True\n",
    "print(\"kaka\")\n",
    "is_nice:bool = True\n",
    "if is_nice:\n",
    "    print(\"hey hey\")\n",
    "else:\n",
    "    print(\"not\")\n",
    "\n",
    "\n"
   ]
  },
  {
   "cell_type": "code",
   "execution_count": 5,
   "id": "3a601bc8",
   "metadata": {},
   "outputs": [
    {
     "name": "stdout",
     "output_type": "stream",
     "text": [
      "robert\n",
      "他人不錯\n"
     ]
    }
   ],
   "source": [
    "is_nice:bool = True\n",
    "print(\"robert\")\n",
    "#雙向選擇\n",
    "if is_nice:\n",
    "    print(\"他人不錯\")\n",
    "else:\n",
    "    print(\"它一般般\")"
   ]
  },
  {
   "cell_type": "code",
   "execution_count": 1,
   "id": "dbe61105",
   "metadata": {},
   "outputs": [
    {
     "name": "stdout",
     "output_type": "stream",
     "text": [
      "及格\n"
     ]
    }
   ],
   "source": [
    "scores = 75\n",
    "if scores >= 60:\n",
    "    print(\"及格\")\n",
    "else:\n",
    "    print(\"不及格\")\n"
   ]
  },
  {
   "cell_type": "code",
   "execution_count": 8,
   "id": "389aa10c",
   "metadata": {},
   "outputs": [
    {
     "name": "stdout",
     "output_type": "stream",
     "text": [
      "優秀\n"
     ]
    }
   ],
   "source": [
    "# 成績判斷\n",
    "score = 95\n",
    "\n",
    "if score >= 90:\n",
    "    print(\"優秀\")\n",
    "elif score >= 80:\n",
    "    print(\"良好\")\n",
    "elif score >= 70:\n",
    "    print(\"中等\")\n",
    "else:\n",
    "    print(\"需要努力\")\n",
    "\n",
    "\n"
   ]
  }
 ],
 "metadata": {
  "kernelspec": {
   "display_name": "katniss",
   "language": "python",
   "name": "python3"
  },
  "language_info": {
   "codemirror_mode": {
    "name": "ipython",
    "version": 3
   },
   "file_extension": ".py",
   "mimetype": "text/x-python",
   "name": "python",
   "nbconvert_exporter": "python",
   "pygments_lexer": "ipython3",
   "version": "3.11.13"
  }
 },
 "nbformat": 4,
 "nbformat_minor": 5
}
